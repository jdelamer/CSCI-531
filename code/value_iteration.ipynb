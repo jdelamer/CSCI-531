{
 "cells": [
 {
   "cell_type": "code",
   "execution_count": null,
   "metadata": {
    "tags": [
     "remove-cell"
    ]
   },
   "outputs": [],
   "source": [
    "!pip install gymnasium",
    "from myst_nb import glue"
   ]
  },
  {
   "cell_type": "markdown",
   "metadata": {},
   "source": [
    "# Let's practice"
   ]
  },
  {
    "cell_type": "code",
    "source": [
        "import gymnasium\n",
        "from gymnasium import spaces\n",
        "import numpy as np\n",
        "import matplotlib.pyplot as plt\n",
        "from matplotlib.patches import Rectangle\n",
        "\n",
        "class GridWorld(gymnasium.Env):\n",
        "  def __init__(self):\n",
        "    # Define the action and observation spaces\n",
        "    self.action_space = spaces.Discrete(4) # Up, Down, Left, Right\n",
        "    self.observation_space = spaces.Discrete(9) # 9 cells\n",
        "\n",
        "    # Initialize the state\n",
        "    self.state = 0\n",
        "\n",
        "  def step(self, action: int):\n",
        "\n",
        "    self._transition(action)\n",
        "\n",
        "    done = False\n",
        "\n",
        "    reward = 0\n",
        "    if self.state == 11:\n",
        "      reward = 10\n",
        "      done = True\n",
        "    elif self.state == 7:\n",
        "      reward = -10\n",
        "      done = True\n",
        "\n",
        "\n",
        "    # Return the observation, reward, done flag, and info\n",
        "    return self.state, reward, done, {}\n",
        "\n",
        "  def _transition(self, action: int):\n",
        "    \"\"\"\n",
        "    Transition function.\n",
        "    :param action: Action to take\n",
        "    \"\"\"\n",
        "    r = np.floor(self.state / 3)\n",
        "    c = self.state % 4\n",
        "    if action == 0:\n",
        "      r = max(0, r - 1)\n",
        "    elif action == 1:\n",
        "      r = min(2, r + 1)\n",
        "    elif action == 2:\n",
        "      c = max(0, c - 1)\n",
        "    elif action == 3:\n",
        "      c = min(3, c + 1)\n",
        "    self.state = r * 4 + c\n",
        "\n",
        "  def reset(self):\n",
        "    \"\"\"\n",
        "    Reset the environment.\n",
        "    \"\"\"\n",
        "    self.state = 0\n",
        "    return self.state\n",
        "\n",
        "  def render(self, render=\"human\"):\n",
        "    fig, ax = plt.subplots()\n",
        "    ax.set_xlim(0, 4)\n",
        "    ax.set_ylim(0, 3)\n",
        "    ax.set_aspect('equal')\n",
        "\n",
        "\n",
        "    for i in range(4):\n",
        "      for j in range(3):\n",
        "        if j * 4 + i == 11:\n",
        "          rect = Rectangle((i, j), 1, 1, edgecolor='black', facecolor='green')\n",
        "          ax.add_patch(rect)\n",
        "        elif j * 4 + i == 7:\n",
        "          rect = Rectangle((i, j), 1, 1, edgecolor='black', facecolor='red')\n",
        "          ax.add_patch(rect)\n",
        "        elif j * 4 + i == 5:\n",
        "          rect = Rectangle((i, j), 1, 1, edgecolor='black', facecolor='grey')\n",
        "          ax.add_patch(rect)\n",
        "        else:\n",
        "          rect = Rectangle((i, j), 1, 1, edgecolor='black', facecolor='white')\n",
        "          ax.add_patch(rect)\n",
        "\n",
        "    ax.tick_params(axis='both',       # changes apply to both axis\n",
        "                    which='both',      # both major and minor ticks are affected\n",
        "                    bottom=False,      # ticks along the bottom edge are off\n",
        "                    top=False,         # ticks along the top edge are off\n",
        "                    left=False,\n",
        "                    right=False,\n",
        "                    labelbottom=False,\n",
        "                    labelleft=False) # labels along the bottom edge are off\n",
        "\n",
        "    plt.show()\n"
      ],
      "metadata": {

      },
 ],
 "metadata": {
  "language_info": {
   "name": "python"
  }
 },
 "nbformat": 4,
 "nbformat_minor": 2
}
